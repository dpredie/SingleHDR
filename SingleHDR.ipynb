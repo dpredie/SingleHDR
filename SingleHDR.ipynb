{
  "nbformat": 4,
  "nbformat_minor": 0,
  "metadata": {
    "colab": {
      "name": "SingleHDR",
      "provenance": [],
      "authorship_tag": "ABX9TyOUJzvkU7N6yR9NoMF6UqyI",
      "include_colab_link": true
    },
    "kernelspec": {
      "name": "python3",
      "display_name": "Python 3"
    },
    "language_info": {
      "name": "python"
    },
    "accelerator": "GPU"
  },
  "cells": [
    {
      "cell_type": "markdown",
      "metadata": {
        "id": "view-in-github",
        "colab_type": "text"
      },
      "source": [
        "<a href=\"https://colab.research.google.com/github/dpredie/SingleHDR/blob/master/SingleHDR.ipynb\" target=\"_parent\"><img src=\"https://colab.research.google.com/assets/colab-badge.svg\" alt=\"Open In Colab\"/></a>"
      ]
    },
    {
      "cell_type": "markdown",
      "metadata": {
        "id": "dnCJl6k7A24F"
      },
      "source": [
        "1. Run Prep to clone git and dependencies\n"
      ]
    },
    {
      "cell_type": "code",
      "metadata": {
        "id": "THntVnzw_zJG"
      },
      "source": [
        "!git clone https://github.com/dpredie/SingleHDR\n",
        "\n",
        "%tensorflow_version 1.11.1\n",
        "import tensorflow\n",
        "print(tensorflow.__version__)\n",
        "\n",
        "!pip install opencv-python"
      ],
      "execution_count": null,
      "outputs": []
    },
    {
      "cell_type": "code",
      "metadata": {
        "id": "H1ss8cF-AhVt"
      },
      "source": [
        "#prep section 2 - download Large model 400 MB! - skip if running small model \n",
        "\n",
        "%cd /content/SingleHDR/\n",
        "!gdown https://drive.google.com/uc?id=1LXP7HFoVKIC8mBPHN1VW9JnQlQPtEfbO\n",
        "!unzip ckpt.zip"
      ],
      "execution_count": null,
      "outputs": []
    },
    {
      "cell_type": "markdown",
      "metadata": {
        "id": "qsXlbsFiA4rC"
      },
      "source": [
        "2. Before running please upload your 360 image to /content/input/ folder. change the below input.png name to your file name\n",
        "\n",
        "\n"
      ]
    },
    {
      "cell_type": "code",
      "metadata": {
        "id": "i_dyk8QqBCKT",
        "colab": {
          "base_uri": "https://localhost:8080/"
        },
        "outputId": "a571f9cc-f7d5-435a-ac05-7070389af249"
      },
      "source": [
        "# run\n",
        "%cd /content/SingleHDR/\n",
        "!mkdir -p output_hdrs\n",
        "\n",
        "# Large Model - comment # to run small model\n",
        "!python test_real.py --ckpt_path_deq ckpt_deq/model.ckpt --ckpt_path_lin ckpt_lin/model.ckpt --ckpt_path_hal ckpt_hal/model.ckpt --test_imgs ./imgs --output_path output_hdrs\n",
        "\n",
        "# Small Model - uncomment to run\n",
        "#!python test_real_refinement.py --ckpt_path ckpt_deq_lin_hal_ref/model.ckpt --test_imgs ./imgs --output_path output_hdrs"
      ],
      "execution_count": 3,
      "outputs": [
        {
          "output_type": "stream",
          "name": "stdout",
          "text": [
            "/content/SingleHDR\n",
            "INFO:numexpr.utils:NumExpr defaulting to 2 threads.\n",
            "WARNING:tensorflow:\n",
            "The TensorFlow contrib module will not be included in TensorFlow 2.0.\n",
            "For more information, please see:\n",
            "  * https://github.com/tensorflow/community/blob/master/rfcs/20180907-contrib-sunset.md\n",
            "  * https://github.com/tensorflow/addons\n",
            "  * https://github.com/tensorflow/io (for I/O related ops)\n",
            "If you depend on functionality not listed there, please file an issue.\n",
            "\n",
            "Traceback (most recent call last):\n",
            "  File \"test_real.py\", line 9, in <module>\n",
            "    import hallucination_net\n",
            "  File \"/content/SingleHDR/hallucination_net.py\", line 40, in <module>\n",
            "    import tensorlayer as tl\n",
            "ModuleNotFoundError: No module named 'tensorlayer'\n"
          ]
        }
      ]
    }
  ]
}