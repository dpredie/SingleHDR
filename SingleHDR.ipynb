{
  "nbformat": 4,
  "nbformat_minor": 0,
  "metadata": {
    "colab": {
      "name": "SingleHDR",
      "provenance": [],
      "authorship_tag": "ABX9TyPckw1SHbfYH0z4ySuB1bmR",
      "include_colab_link": true
    },
    "kernelspec": {
      "name": "python3",
      "display_name": "Python 3"
    },
    "language_info": {
      "name": "python"
    },
    "accelerator": "GPU"
  },
  "cells": [
    {
      "cell_type": "markdown",
      "metadata": {
        "id": "view-in-github",
        "colab_type": "text"
      },
      "source": [
        "<a href=\"https://colab.research.google.com/github/dpredie/SingleHDR/blob/master/SingleHDR.ipynb\" target=\"_parent\"><img src=\"https://colab.research.google.com/assets/colab-badge.svg\" alt=\"Open In Colab\"/></a>"
      ]
    },
    {
      "cell_type": "markdown",
      "metadata": {
        "id": "dnCJl6k7A24F"
      },
      "source": [
        "1. Run Prep to clone git and dependencies\n"
      ]
    },
    {
      "cell_type": "code",
      "metadata": {
        "id": "THntVnzw_zJG",
        "colab": {
          "base_uri": "https://localhost:8080/"
        },
        "outputId": "8fdc267f-2c84-4be2-a611-0ae394acbf1d"
      },
      "source": [
        "!mkdir -p output\n",
        "!mkdir -p input\n",
        "\n",
        "!git clone https://github.com/dpredie/SingleHDR\n",
        "\n",
        "!pip install numpy opencv-python tensorflow"
      ],
      "execution_count": 1,
      "outputs": [
        {
          "output_type": "stream",
          "name": "stdout",
          "text": [
            "Cloning into 'SingleHDR'...\n",
            "remote: Enumerating objects: 1378, done.\u001b[K\n",
            "remote: Counting objects: 100% (57/57), done.\u001b[K\n",
            "remote: Compressing objects: 100% (56/56), done.\u001b[K\n",
            "remote: Total 1378 (delta 22), reused 0 (delta 0), pack-reused 1321\u001b[K\n",
            "Receiving objects: 100% (1378/1378), 175.17 MiB | 13.98 MiB/s, done.\n",
            "Resolving deltas: 100% (72/72), done.\n",
            "Requirement already satisfied: numpy in /usr/local/lib/python3.7/dist-packages (1.19.5)\n",
            "Requirement already satisfied: opencv-python in /usr/local/lib/python3.7/dist-packages (4.1.2.30)\n",
            "\u001b[31mERROR: Could not find a version that satisfies the requirement tensorflow==1.11.1 (from versions: 1.13.1, 1.13.2, 1.14.0, 1.15.0, 1.15.2, 1.15.3, 1.15.4, 1.15.5, 2.0.0, 2.0.1, 2.0.2, 2.0.3, 2.0.4, 2.1.0, 2.1.1, 2.1.2, 2.1.3, 2.1.4, 2.2.0rc0, 2.2.0rc1, 2.2.0rc2, 2.2.0rc3, 2.2.0rc4, 2.2.0, 2.2.1, 2.2.2, 2.2.3, 2.3.0rc0, 2.3.0rc1, 2.3.0rc2, 2.3.0, 2.3.1, 2.3.2, 2.3.3, 2.3.4, 2.4.0rc0, 2.4.0rc1, 2.4.0rc2, 2.4.0rc3, 2.4.0rc4, 2.4.0, 2.4.1, 2.4.2, 2.4.3, 2.4.4, 2.5.0rc0, 2.5.0rc1, 2.5.0rc2, 2.5.0rc3, 2.5.0, 2.5.1, 2.5.2, 2.6.0rc0, 2.6.0rc1, 2.6.0rc2, 2.6.0, 2.6.1, 2.6.2, 2.7.0rc0, 2.7.0rc1, 2.7.0)\u001b[0m\n",
            "\u001b[31mERROR: No matching distribution found for tensorflow==1.11.1\u001b[0m\n"
          ]
        }
      ]
    },
    {
      "cell_type": "code",
      "metadata": {
        "id": "H1ss8cF-AhVt"
      },
      "source": [
        "#prep section 2 - download Large model 400 MB! - skip if running small model \n",
        "\n",
        "%cd /content/SingleHDR/\n",
        "!gdown https://drive.google.com/uc?id=16N4RIPIT4p19-HKAd6jppO9q61QB0uUy\n",
        "!unzip ckpt.zip"
      ],
      "execution_count": null,
      "outputs": []
    },
    {
      "cell_type": "markdown",
      "metadata": {
        "id": "qsXlbsFiA4rC"
      },
      "source": [
        "2. Before running please upload your 360 image to /content/input/ folder. change the below input.png name to your file name\n",
        "\n",
        "\n"
      ]
    },
    {
      "cell_type": "code",
      "metadata": {
        "id": "i_dyk8QqBCKT"
      },
      "source": [
        "# run\n",
        "%cd /content/TCMonoDepth/\n",
        "\n",
        "# Large Model - comment # to run small model\n",
        "!python3 test_real.py --ckpt_path_deq ckpt_deq/model.ckpt --ckpt_path_lin ckpt_lin/model.ckpt --ckpt_path_hal ckpt_hal/model.ckpt --test_imgs ./imgs --output_path output_hdrs\n",
        "\n",
        "# Small Model - uncomment to run\n",
        "#!python3 test_real_refinement.py --ckpt_path ckpt_deq_lin_hal_ref/model.ckpt --test_imgs ./imgs --output_path output_hdrs"
      ],
      "execution_count": null,
      "outputs": []
    }
  ]
}